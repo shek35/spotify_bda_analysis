{
 "cells": [
  {
   "cell_type": "code",
   "execution_count": 1,
   "metadata": {},
   "outputs": [],
   "source": [
    "import modin.pandas as pd\n",
    "import numpy as np\n",
    "import seaborn as sns\n",
    "import matplotlib.pyplot as plt\n",
    "%matplotlib inline\n",
    "\n",
    "import warnings\n",
    "warnings.simplefilter(\"ignore\")"
   ]
  },
  {
   "cell_type": "code",
   "execution_count": 2,
   "metadata": {},
   "outputs": [],
   "source": [
    "import nltk\n",
    "import networkx as nx"
   ]
  },
  {
   "cell_type": "code",
   "execution_count": 3,
   "metadata": {},
   "outputs": [],
   "source": [
    "df=pd.read_csv('tracks.csv')"
   ]
  },
  {
   "cell_type": "code",
   "execution_count": 5,
   "metadata": {},
   "outputs": [
    {
     "data": {
      "text/html": [
       "<div>\n",
       "<style scoped>\n",
       "    .dataframe tbody tr th:only-of-type {\n",
       "        vertical-align: middle;\n",
       "    }\n",
       "\n",
       "    .dataframe tbody tr th {\n",
       "        vertical-align: top;\n",
       "    }\n",
       "\n",
       "    .dataframe thead th {\n",
       "        text-align: right;\n",
       "    }\n",
       "</style>\n",
       "<table border=\"1\" class=\"dataframe\">\n",
       "  <thead>\n",
       "    <tr style=\"text-align: right;\">\n",
       "      <th></th>\n",
       "      <th>id</th>\n",
       "      <th>name</th>\n",
       "      <th>popularity</th>\n",
       "      <th>duration_ms</th>\n",
       "      <th>explicit</th>\n",
       "      <th>artists</th>\n",
       "      <th>id_artists</th>\n",
       "      <th>release_date</th>\n",
       "      <th>danceability</th>\n",
       "      <th>energy</th>\n",
       "      <th>key</th>\n",
       "      <th>loudness</th>\n",
       "      <th>mode</th>\n",
       "      <th>speechiness</th>\n",
       "      <th>acousticness</th>\n",
       "      <th>instrumentalness</th>\n",
       "      <th>liveness</th>\n",
       "      <th>valence</th>\n",
       "      <th>tempo</th>\n",
       "      <th>time_signature</th>\n",
       "    </tr>\n",
       "  </thead>\n",
       "  <tbody>\n",
       "    <tr>\n",
       "      <th>0</th>\n",
       "      <td>35iwgR4jXetI318WEWsa1Q</td>\n",
       "      <td>Carve</td>\n",
       "      <td>6</td>\n",
       "      <td>126903</td>\n",
       "      <td>0</td>\n",
       "      <td>['Uli']</td>\n",
       "      <td>['45tIt06XoI0Iio4LBEVpls']</td>\n",
       "      <td>1922-02-22</td>\n",
       "      <td>0.645</td>\n",
       "      <td>0.4450</td>\n",
       "      <td>0</td>\n",
       "      <td>-13.338</td>\n",
       "      <td>1</td>\n",
       "      <td>0.4510</td>\n",
       "      <td>0.674</td>\n",
       "      <td>0.7440</td>\n",
       "      <td>0.151</td>\n",
       "      <td>0.127</td>\n",
       "      <td>104.851</td>\n",
       "      <td>3</td>\n",
       "    </tr>\n",
       "    <tr>\n",
       "      <th>1</th>\n",
       "      <td>021ht4sdgPcrDgSk7JTbKY</td>\n",
       "      <td>Capítulo 2.16 - Banquero Anarquista</td>\n",
       "      <td>0</td>\n",
       "      <td>98200</td>\n",
       "      <td>0</td>\n",
       "      <td>['Fernando Pessoa']</td>\n",
       "      <td>['14jtPCOoNZwquk5wd9DxrY']</td>\n",
       "      <td>1922-06-01</td>\n",
       "      <td>0.695</td>\n",
       "      <td>0.2630</td>\n",
       "      <td>0</td>\n",
       "      <td>-22.136</td>\n",
       "      <td>1</td>\n",
       "      <td>0.9570</td>\n",
       "      <td>0.797</td>\n",
       "      <td>0.0000</td>\n",
       "      <td>0.148</td>\n",
       "      <td>0.655</td>\n",
       "      <td>102.009</td>\n",
       "      <td>1</td>\n",
       "    </tr>\n",
       "    <tr>\n",
       "      <th>2</th>\n",
       "      <td>07A5yehtSnoedViJAZkNnc</td>\n",
       "      <td>Vivo para Quererte - Remasterizado</td>\n",
       "      <td>0</td>\n",
       "      <td>181640</td>\n",
       "      <td>0</td>\n",
       "      <td>['Ignacio Corsini']</td>\n",
       "      <td>['5LiOoJbxVSAMkBS2fUm3X2']</td>\n",
       "      <td>1922-03-21</td>\n",
       "      <td>0.434</td>\n",
       "      <td>0.1770</td>\n",
       "      <td>1</td>\n",
       "      <td>-21.180</td>\n",
       "      <td>1</td>\n",
       "      <td>0.0512</td>\n",
       "      <td>0.994</td>\n",
       "      <td>0.0218</td>\n",
       "      <td>0.212</td>\n",
       "      <td>0.457</td>\n",
       "      <td>130.418</td>\n",
       "      <td>5</td>\n",
       "    </tr>\n",
       "    <tr>\n",
       "      <th>3</th>\n",
       "      <td>08FmqUhxtyLTn6pAh6bk45</td>\n",
       "      <td>El Prisionero - Remasterizado</td>\n",
       "      <td>0</td>\n",
       "      <td>176907</td>\n",
       "      <td>0</td>\n",
       "      <td>['Ignacio Corsini']</td>\n",
       "      <td>['5LiOoJbxVSAMkBS2fUm3X2']</td>\n",
       "      <td>1922-03-21</td>\n",
       "      <td>0.321</td>\n",
       "      <td>0.0946</td>\n",
       "      <td>7</td>\n",
       "      <td>-27.961</td>\n",
       "      <td>1</td>\n",
       "      <td>0.0504</td>\n",
       "      <td>0.995</td>\n",
       "      <td>0.9180</td>\n",
       "      <td>0.104</td>\n",
       "      <td>0.397</td>\n",
       "      <td>169.980</td>\n",
       "      <td>3</td>\n",
       "    </tr>\n",
       "    <tr>\n",
       "      <th>4</th>\n",
       "      <td>08y9GfoqCWfOGsKdwojr5e</td>\n",
       "      <td>Lady of the Evening</td>\n",
       "      <td>0</td>\n",
       "      <td>163080</td>\n",
       "      <td>0</td>\n",
       "      <td>['Dick Haymes']</td>\n",
       "      <td>['3BiJGZsyX9sJchTqcSA7Su']</td>\n",
       "      <td>1922</td>\n",
       "      <td>0.402</td>\n",
       "      <td>0.1580</td>\n",
       "      <td>3</td>\n",
       "      <td>-16.900</td>\n",
       "      <td>0</td>\n",
       "      <td>0.0390</td>\n",
       "      <td>0.989</td>\n",
       "      <td>0.1300</td>\n",
       "      <td>0.311</td>\n",
       "      <td>0.196</td>\n",
       "      <td>103.220</td>\n",
       "      <td>4</td>\n",
       "    </tr>\n",
       "  </tbody>\n",
       "</table>\n",
       "</div>"
      ],
      "text/plain": [
       "                       id                                 name  popularity  \\\n",
       "0  35iwgR4jXetI318WEWsa1Q                                Carve           6   \n",
       "1  021ht4sdgPcrDgSk7JTbKY  Capítulo 2.16 - Banquero Anarquista           0   \n",
       "2  07A5yehtSnoedViJAZkNnc   Vivo para Quererte - Remasterizado           0   \n",
       "3  08FmqUhxtyLTn6pAh6bk45        El Prisionero - Remasterizado           0   \n",
       "4  08y9GfoqCWfOGsKdwojr5e                  Lady of the Evening           0   \n",
       "\n",
       "   duration_ms  explicit              artists                  id_artists  \\\n",
       "0       126903         0              ['Uli']  ['45tIt06XoI0Iio4LBEVpls']   \n",
       "1        98200         0  ['Fernando Pessoa']  ['14jtPCOoNZwquk5wd9DxrY']   \n",
       "2       181640         0  ['Ignacio Corsini']  ['5LiOoJbxVSAMkBS2fUm3X2']   \n",
       "3       176907         0  ['Ignacio Corsini']  ['5LiOoJbxVSAMkBS2fUm3X2']   \n",
       "4       163080         0      ['Dick Haymes']  ['3BiJGZsyX9sJchTqcSA7Su']   \n",
       "\n",
       "  release_date  danceability  energy  key  loudness  mode  speechiness  \\\n",
       "0   1922-02-22         0.645  0.4450    0   -13.338     1       0.4510   \n",
       "1   1922-06-01         0.695  0.2630    0   -22.136     1       0.9570   \n",
       "2   1922-03-21         0.434  0.1770    1   -21.180     1       0.0512   \n",
       "3   1922-03-21         0.321  0.0946    7   -27.961     1       0.0504   \n",
       "4         1922         0.402  0.1580    3   -16.900     0       0.0390   \n",
       "\n",
       "   acousticness  instrumentalness  liveness  valence    tempo  time_signature  \n",
       "0         0.674            0.7440     0.151    0.127  104.851               3  \n",
       "1         0.797            0.0000     0.148    0.655  102.009               1  \n",
       "2         0.994            0.0218     0.212    0.457  130.418               5  \n",
       "3         0.995            0.9180     0.104    0.397  169.980               3  \n",
       "4         0.989            0.1300     0.311    0.196  103.220               4  "
      ]
     },
     "execution_count": 5,
     "metadata": {},
     "output_type": "execute_result"
    }
   ],
   "source": [
    "df.head()"
   ]
  },
  {
   "cell_type": "code",
   "execution_count": 6,
   "metadata": {},
   "outputs": [],
   "source": [
    "artist_colab=[]\n",
    "for item in df['artists']:\n",
    "    if len(item.split(','))>1:\n",
    "        artist_colab.append(item)"
   ]
  },
  {
   "cell_type": "code",
   "execution_count": 7,
   "metadata": {},
   "outputs": [],
   "source": [
    "artist_colab_cleaned=[]\n",
    "for item in artist_colab:\n",
    "    artist_colab_cleaned.append(item.replace('[','').replace(']','').replace(\"'\",'').strip().split(','))"
   ]
  },
  {
   "cell_type": "code",
   "execution_count": 8,
   "metadata": {},
   "outputs": [
    {
     "data": {
      "text/plain": [
       "2"
      ]
     },
     "execution_count": 8,
     "metadata": {},
     "output_type": "execute_result"
    }
   ],
   "source": [
    "len(artist_colab_cleaned[10])"
   ]
  },
  {
   "cell_type": "code",
   "execution_count": 9,
   "metadata": {},
   "outputs": [],
   "source": [
    "all_artist=[]\n",
    "for item in artist_colab_cleaned:\n",
    "    for i in range(len(item)):\n",
    "        all_artist.append(item[i])"
   ]
  },
  {
   "cell_type": "code",
   "execution_count": 10,
   "metadata": {},
   "outputs": [
    {
     "data": {
      "text/plain": [
       "' \"James Dapognys Chicago Jazz Band\"'"
      ]
     },
     "execution_count": 10,
     "metadata": {},
     "output_type": "execute_result"
    }
   ],
   "source": [
    "artist_colab_cleaned[104][1]"
   ]
  },
  {
   "cell_type": "code",
   "execution_count": 11,
   "metadata": {},
   "outputs": [],
   "source": [
    "#all_words = all_artist.split() \n",
    "fdist = nltk.FreqDist(all_artist) "
   ]
  },
  {
   "cell_type": "code",
   "execution_count": 12,
   "metadata": {},
   "outputs": [],
   "source": [
    "unique_artist=list(set(all_artist))"
   ]
  },
  {
   "cell_type": "code",
   "execution_count": 71,
   "metadata": {},
   "outputs": [],
   "source": [
    "artists_df = pd.DataFrame({'artist':list(fdist.keys()), 'count':list(fdist.values())}) "
   ]
  },
  {
   "cell_type": "code",
   "execution_count": 72,
   "metadata": {},
   "outputs": [],
   "source": [
    "d = artists_df.nlargest(columns=\"count\", n = 100)\n",
    "unique_artist_100=list(d['artist'])"
   ]
  },
  {
   "cell_type": "code",
   "execution_count": 73,
   "metadata": {},
   "outputs": [
    {
     "data": {
      "text/plain": [
       "['Johann Sebastian Bach',\n",
       " 'Wolfgang Amadeus Mozart',\n",
       " 'Ludwig van Beethoven',\n",
       " ' Wiener Philharmoniker',\n",
       " 'Frédéric Chopin',\n",
       " 'Francisco Canaro',\n",
       " 'Giuseppe Verdi',\n",
       " 'Lata Mangeshkar',\n",
       " 'Tintin',\n",
       " ' Tomas Bolme',\n",
       " ' Bert-Åke Varg',\n",
       " ' Glenn Gould',\n",
       " ' Milano',\n",
       " 'Georgette Heyer',\n",
       " ' New York Philharmonic',\n",
       " 'Giacomo Puccini',\n",
       " ' Orchestra Del Teatro Alla Scala',\n",
       " ' London Symphony Orchestra',\n",
       " ' Vladimir Horowitz',\n",
       " ' P. Susheela',\n",
       " 'S. P. Balasubrahmanyam',\n",
       " ' Tullio Serafin',\n",
       " ' Maria Callas',\n",
       " 'Igor Stravinsky',\n",
       " ' Arturo Toscanini',\n",
       " ' Herbert von Karajan',\n",
       " ' Jascha Heifetz',\n",
       " ' Mohammed Rafi',\n",
       " ' Arthur Rubinstein',\n",
       " ' Columbia Symphony Orchestra',\n",
       " ' Philharmonia Orchestra',\n",
       " ' Leonard Bernstein',\n",
       " 'Johannes Brahms',\n",
       " 'Asha Bhosle',\n",
       " ' Irina Salkow',\n",
       " 'Claude Debussy',\n",
       " ' K. S. Chithra',\n",
       " ' Charlo',\n",
       " ' Eugene Ormandy',\n",
       " 'Johann Strauss II',\n",
       " ' Isaac Stern',\n",
       " 'John Williams',\n",
       " 'Pyotr Ilyich Tchaikovsky',\n",
       " ' Philadelphia Orchestra',\n",
       " ' Berliner Philharmoniker',\n",
       " ' S. Janaki',\n",
       " 'Franz Schubert',\n",
       " 'George Frideric Handel',\n",
       " ' Alka Yagnik',\n",
       " 'Armin van Buuren',\n",
       " ' Karl Böhm',\n",
       " ' Brigitte Carlsen',\n",
       " ' Bruno Walter',\n",
       " 'Robert Schumann',\n",
       " ' Fritz Reiner',\n",
       " ' Eva Mattes',\n",
       " ' Asha Bhosle',\n",
       " 'Kishore Kumar',\n",
       " 'T. M. Soundararajan',\n",
       " ' Kishore Kumar',\n",
       " 'Ghantasala',\n",
       " 'Franz Joseph Haydn',\n",
       " ' Claudio Arrau',\n",
       " 'Richard Wagner',\n",
       " 'Billie Holiday',\n",
       " ' Lata Mangeshkar',\n",
       " ' Coro Del Teatro Alla Scala Di Milano',\n",
       " ' William Kapell',\n",
       " ' Giuseppe Di Stefano',\n",
       " 'Sergei Rachmaninoff',\n",
       " ' 吳爾笠',\n",
       " 'Udit Narayan',\n",
       " ' Cleveland Orchestra',\n",
       " ' \"Integritys Hosanna! Music\"',\n",
       " 'Pritam',\n",
       " ' Concertgebouworkest',\n",
       " 'Antonio Vivaldi',\n",
       " 'Erik Satie',\n",
       " 'A.R. Rahman',\n",
       " 'Mohammed Rafi',\n",
       " ' Tito Gobbi',\n",
       " ' Ernesto Fama',\n",
       " ' Orchestra Del Teatro Alla Scala Di Milan',\n",
       " 'Traditional',\n",
       " 'Richard Strauss',\n",
       " 'Diomedes Diaz',\n",
       " ' George Szell',\n",
       " ' Richard Tucker',\n",
       " 'Arik Einstein',\n",
       " ' Robert Casadesus',\n",
       " 'Radclyffe Hall',\n",
       " ' Alice White',\n",
       " ' Synthesized Voice',\n",
       " 'Vincenzo Bellini',\n",
       " 'Sinclair Lewis',\n",
       " ' Frank Arnold',\n",
       " 'Gustav Mahler',\n",
       " 'Leonard Bernstein',\n",
       " 'Felix Mendelssohn',\n",
       " 'J Balvin']"
      ]
     },
     "execution_count": 73,
     "metadata": {},
     "output_type": "execute_result"
    }
   ],
   "source": [
    "unique_artist_100"
   ]
  },
  {
   "cell_type": "code",
   "execution_count": 13,
   "metadata": {},
   "outputs": [],
   "source": [
    "G=nx.Graph()\n",
    "\n",
    "for item in unique_artist:\n",
    "    G.add_node(item)"
   ]
  },
  {
   "cell_type": "code",
   "execution_count": 14,
   "metadata": {},
   "outputs": [],
   "source": [
    "collab=[]\n",
    "for item in artist_colab_cleaned:\n",
    "    for i in range(1,len(item)):\n",
    "        temp=[]\n",
    "        temp.append([item[0],item[i]])\n",
    "        collab.append(temp)"
   ]
  },
  {
   "cell_type": "code",
   "execution_count": 15,
   "metadata": {},
   "outputs": [],
   "source": [
    "edges=collab"
   ]
  },
  {
   "cell_type": "code",
   "execution_count": 26,
   "metadata": {},
   "outputs": [
    {
     "data": {
      "text/plain": [
       "['Dick Haymes', ' His Orchestra']"
      ]
     },
     "execution_count": 26,
     "metadata": {},
     "output_type": "execute_result"
    }
   ],
   "source": [
    "edges[1][0]"
   ]
  },
  {
   "cell_type": "code",
   "execution_count": 28,
   "metadata": {},
   "outputs": [
    {
     "data": {
      "text/plain": [
       "173449"
      ]
     },
     "execution_count": 28,
     "metadata": {},
     "output_type": "execute_result"
    }
   ],
   "source": [
    "len(edges)"
   ]
  },
  {
   "cell_type": "code",
   "execution_count": 27,
   "metadata": {},
   "outputs": [
    {
     "name": "stdout",
     "output_type": "stream",
     "text": [
      "True\n"
     ]
    }
   ],
   "source": [
    "if edges[1][0]==edges[3][0]:\n",
    "    print(True)"
   ]
  },
  {
   "cell_type": "code",
   "execution_count": 56,
   "metadata": {},
   "outputs": [
    {
     "data": {
      "text/plain": [
       "2"
      ]
     },
     "execution_count": 56,
     "metadata": {},
     "output_type": "execute_result"
    }
   ],
   "source": [
    "len(edges[1][0])"
   ]
  },
  {
   "cell_type": "code",
   "execution_count": 57,
   "metadata": {},
   "outputs": [],
   "source": [
    "unique_edge=[]\n",
    "for i in range(len(edges)):\n",
    "    if len(edges[1][0])==2:\n",
    "        if edges[i][0] not in unique_edge:\n",
    "            unique_edge.append(edges[i][0])\n",
    "    #for j in range(len(1,len(edges))):\n"
   ]
  },
  {
   "cell_type": "code",
   "execution_count": 58,
   "metadata": {},
   "outputs": [
    {
     "data": {
      "text/plain": [
       "62650"
      ]
     },
     "execution_count": 58,
     "metadata": {},
     "output_type": "execute_result"
    }
   ],
   "source": [
    "len(unique_artist)"
   ]
  },
  {
   "cell_type": "code",
   "execution_count": 59,
   "metadata": {},
   "outputs": [
    {
     "data": {
      "text/plain": [
       "71569"
      ]
     },
     "execution_count": 59,
     "metadata": {},
     "output_type": "execute_result"
    }
   ],
   "source": [
    "len(unique_edge)"
   ]
  },
  {
   "cell_type": "code",
   "execution_count": 60,
   "metadata": {},
   "outputs": [],
   "source": [
    "for i in unique_edge:\n",
    "    #i = i[0]\n",
    "    #print(i)\n",
    "    #print(i[0],i[1])\n",
    "    G.add_edge(i[0], i[1])"
   ]
  },
  {
   "cell_type": "code",
   "execution_count": 61,
   "metadata": {},
   "outputs": [
    {
     "name": "stdout",
     "output_type": "stream",
     "text": [
      "71569\n"
     ]
    }
   ],
   "source": [
    "print(G.number_of_edges())"
   ]
  },
  {
   "cell_type": "code",
   "execution_count": 103,
   "metadata": {},
   "outputs": [],
   "source": [
    "H = nx.Graph(((u, v,e) for u,v,e in G.edges(data=True) if u in ['Dua Lipa','J Balvin','Leonard Bernstein',\n",
    " 'Felix Mendelssohn']))\n",
    "H1 = nx.Graph(((u, v,e) for u,v,e in G.edges(data=True) if u=='J Balvin'))"
   ]
  },
  {
   "cell_type": "code",
   "execution_count": 104,
   "metadata": {},
   "outputs": [],
   "source": [
    "adj=H.adjacency()"
   ]
  },
  {
   "cell_type": "code",
   "execution_count": 105,
   "metadata": {},
   "outputs": [
    {
     "data": {
      "text/html": [
       "\n",
       "        <iframe\n",
       "            width=\"100%\"\n",
       "            height=\"800px\"\n",
       "            src=\"J_Balvin.html\"\n",
       "            frameborder=\"0\"\n",
       "            allowfullscreen\n",
       "        ></iframe>\n",
       "        "
      ],
      "text/plain": [
       "<IPython.lib.display.IFrame at 0x1ef2091d4e0>"
      ]
     },
     "execution_count": 105,
     "metadata": {},
     "output_type": "execute_result"
    }
   ],
   "source": [
    "from pyvis.network import Network\n",
    "net=Network(height='800px', width='100%',notebook=True)\n",
    "net.from_nx(H)\n",
    "net.show_buttons(filter_=['physics'])\n",
    "net.show('J_Balvin.html')\n"
   ]
  },
  {
   "cell_type": "code",
   "execution_count": 118,
   "metadata": {},
   "outputs": [],
   "source": [
    "df0=df"
   ]
  },
  {
   "cell_type": "code",
   "execution_count": 122,
   "metadata": {},
   "outputs": [],
   "source": [
    "df0['release_date']=pd.to_datetime(df0['release_date'])"
   ]
  },
  {
   "cell_type": "code",
   "execution_count": 123,
   "metadata": {},
   "outputs": [],
   "source": [
    "df0['year'] = df0['release_date'].dt.year"
   ]
  },
  {
   "cell_type": "code",
   "execution_count": 128,
   "metadata": {},
   "outputs": [],
   "source": [
    "df0['New']=df0['year'].apply(lambda x: 1 if x > 1999 else 0)"
   ]
  },
  {
   "cell_type": "code",
   "execution_count": 130,
   "metadata": {},
   "outputs": [],
   "source": [
    "new_df=df.groupby('New').get_group(1)"
   ]
  },
  {
   "cell_type": "code",
   "execution_count": 131,
   "metadata": {},
   "outputs": [
    {
     "data": {
      "text/html": [
       "<div>\n",
       "<style scoped>\n",
       "    .dataframe tbody tr th:only-of-type {\n",
       "        vertical-align: middle;\n",
       "    }\n",
       "\n",
       "    .dataframe tbody tr th {\n",
       "        vertical-align: top;\n",
       "    }\n",
       "\n",
       "    .dataframe thead th {\n",
       "        text-align: right;\n",
       "    }\n",
       "</style>\n",
       "<table border=\"1\" class=\"dataframe\">\n",
       "  <thead>\n",
       "    <tr style=\"text-align: right;\">\n",
       "      <th></th>\n",
       "      <th>id</th>\n",
       "      <th>name</th>\n",
       "      <th>popularity</th>\n",
       "      <th>duration_ms</th>\n",
       "      <th>explicit</th>\n",
       "      <th>artists</th>\n",
       "      <th>id_artists</th>\n",
       "      <th>release_date</th>\n",
       "      <th>danceability</th>\n",
       "      <th>energy</th>\n",
       "      <th>...</th>\n",
       "      <th>mode</th>\n",
       "      <th>speechiness</th>\n",
       "      <th>acousticness</th>\n",
       "      <th>instrumentalness</th>\n",
       "      <th>liveness</th>\n",
       "      <th>valence</th>\n",
       "      <th>tempo</th>\n",
       "      <th>time_signature</th>\n",
       "      <th>year</th>\n",
       "      <th>New</th>\n",
       "    </tr>\n",
       "  </thead>\n",
       "  <tbody>\n",
       "    <tr>\n",
       "      <th>39501</th>\n",
       "      <td>6catF1lDhNTjjGa2GxRQNN</td>\n",
       "      <td>You'll Never Walk Alone - Mono; 2002 Remaster</td>\n",
       "      <td>56</td>\n",
       "      <td>160187</td>\n",
       "      <td>0</td>\n",
       "      <td>['Gerry &amp; The Pacemakers']</td>\n",
       "      <td>['3UmBeGyNwr4iDWi1vTxWi8']</td>\n",
       "      <td>2008-02-11</td>\n",
       "      <td>0.484</td>\n",
       "      <td>0.265</td>\n",
       "      <td>...</td>\n",
       "      <td>1</td>\n",
       "      <td>0.0322</td>\n",
       "      <td>0.394</td>\n",
       "      <td>0.000000</td>\n",
       "      <td>0.149</td>\n",
       "      <td>0.285</td>\n",
       "      <td>113.564</td>\n",
       "      <td>3</td>\n",
       "      <td>2008</td>\n",
       "      <td>1</td>\n",
       "    </tr>\n",
       "    <tr>\n",
       "      <th>39511</th>\n",
       "      <td>6Pkt6qVikqPBt9bEQy8iTz</td>\n",
       "      <td>A Lover's Concerto</td>\n",
       "      <td>41</td>\n",
       "      <td>159560</td>\n",
       "      <td>0</td>\n",
       "      <td>['The Toys']</td>\n",
       "      <td>['6lH5PpuiMa5SpfjoIOlwCS']</td>\n",
       "      <td>2020-03-13</td>\n",
       "      <td>0.671</td>\n",
       "      <td>0.867</td>\n",
       "      <td>...</td>\n",
       "      <td>1</td>\n",
       "      <td>0.0571</td>\n",
       "      <td>0.436</td>\n",
       "      <td>0.000000</td>\n",
       "      <td>0.139</td>\n",
       "      <td>0.839</td>\n",
       "      <td>120.689</td>\n",
       "      <td>4</td>\n",
       "      <td>2020</td>\n",
       "      <td>1</td>\n",
       "    </tr>\n",
       "    <tr>\n",
       "      <th>39517</th>\n",
       "      <td>4aSw1QJIMwYSoDEgzgdCJL</td>\n",
       "      <td>Ferry Cross the Mersey - Mono; 2002 Remaster</td>\n",
       "      <td>40</td>\n",
       "      <td>141987</td>\n",
       "      <td>0</td>\n",
       "      <td>['Gerry &amp; The Pacemakers']</td>\n",
       "      <td>['3UmBeGyNwr4iDWi1vTxWi8']</td>\n",
       "      <td>2008-02-11</td>\n",
       "      <td>0.405</td>\n",
       "      <td>0.365</td>\n",
       "      <td>...</td>\n",
       "      <td>0</td>\n",
       "      <td>0.0289</td>\n",
       "      <td>0.255</td>\n",
       "      <td>0.000005</td>\n",
       "      <td>0.163</td>\n",
       "      <td>0.588</td>\n",
       "      <td>104.536</td>\n",
       "      <td>4</td>\n",
       "      <td>2008</td>\n",
       "      <td>1</td>\n",
       "    </tr>\n",
       "    <tr>\n",
       "      <th>39521</th>\n",
       "      <td>0ZMMtH875IR2TfkyC4PolD</td>\n",
       "      <td>Don't Let the Sun Catch You Crying (Main) - Mono</td>\n",
       "      <td>34</td>\n",
       "      <td>157093</td>\n",
       "      <td>0</td>\n",
       "      <td>['Gerry &amp; The Pacemakers']</td>\n",
       "      <td>['3UmBeGyNwr4iDWi1vTxWi8']</td>\n",
       "      <td>2008-02-11</td>\n",
       "      <td>0.477</td>\n",
       "      <td>0.352</td>\n",
       "      <td>...</td>\n",
       "      <td>1</td>\n",
       "      <td>0.0300</td>\n",
       "      <td>0.406</td>\n",
       "      <td>0.000000</td>\n",
       "      <td>0.122</td>\n",
       "      <td>0.478</td>\n",
       "      <td>106.773</td>\n",
       "      <td>4</td>\n",
       "      <td>2008</td>\n",
       "      <td>1</td>\n",
       "    </tr>\n",
       "    <tr>\n",
       "      <th>39529</th>\n",
       "      <td>1hx7X9cMXHWJjknb9O6Ava</td>\n",
       "      <td>The September Of My Years - Live At The Sands ...</td>\n",
       "      <td>26</td>\n",
       "      <td>187333</td>\n",
       "      <td>0</td>\n",
       "      <td>['Frank Sinatra']</td>\n",
       "      <td>['1Mxqyy3pSjf8kZZL4QVxS0']</td>\n",
       "      <td>2018-05-04</td>\n",
       "      <td>0.319</td>\n",
       "      <td>0.201</td>\n",
       "      <td>...</td>\n",
       "      <td>1</td>\n",
       "      <td>0.0623</td>\n",
       "      <td>0.887</td>\n",
       "      <td>0.000000</td>\n",
       "      <td>0.904</td>\n",
       "      <td>0.239</td>\n",
       "      <td>117.153</td>\n",
       "      <td>3</td>\n",
       "      <td>2018</td>\n",
       "      <td>1</td>\n",
       "    </tr>\n",
       "  </tbody>\n",
       "</table>\n",
       "<p>5 rows x 22 columns</p>\n",
       "</div>"
      ],
      "text/plain": [
       "                           id  \\\n",
       "39501  6catF1lDhNTjjGa2GxRQNN   \n",
       "39511  6Pkt6qVikqPBt9bEQy8iTz   \n",
       "39517  4aSw1QJIMwYSoDEgzgdCJL   \n",
       "39521  0ZMMtH875IR2TfkyC4PolD   \n",
       "39529  1hx7X9cMXHWJjknb9O6Ava   \n",
       "\n",
       "                                                    name  popularity  \\\n",
       "39501      You'll Never Walk Alone - Mono; 2002 Remaster          56   \n",
       "39511                                 A Lover's Concerto          41   \n",
       "39517       Ferry Cross the Mersey - Mono; 2002 Remaster          40   \n",
       "39521   Don't Let the Sun Catch You Crying (Main) - Mono          34   \n",
       "39529  The September Of My Years - Live At The Sands ...          26   \n",
       "\n",
       "       duration_ms  explicit                     artists  \\\n",
       "39501       160187         0  ['Gerry & The Pacemakers']   \n",
       "39511       159560         0                ['The Toys']   \n",
       "39517       141987         0  ['Gerry & The Pacemakers']   \n",
       "39521       157093         0  ['Gerry & The Pacemakers']   \n",
       "39529       187333         0           ['Frank Sinatra']   \n",
       "\n",
       "                       id_artists release_date  danceability  energy  ...  \\\n",
       "39501  ['3UmBeGyNwr4iDWi1vTxWi8']   2008-02-11         0.484   0.265  ...   \n",
       "39511  ['6lH5PpuiMa5SpfjoIOlwCS']   2020-03-13         0.671   0.867  ...   \n",
       "39517  ['3UmBeGyNwr4iDWi1vTxWi8']   2008-02-11         0.405   0.365  ...   \n",
       "39521  ['3UmBeGyNwr4iDWi1vTxWi8']   2008-02-11         0.477   0.352  ...   \n",
       "39529  ['1Mxqyy3pSjf8kZZL4QVxS0']   2018-05-04         0.319   0.201  ...   \n",
       "\n",
       "       mode  speechiness  acousticness  instrumentalness  liveness  valence  \\\n",
       "39501     1       0.0322         0.394          0.000000     0.149    0.285   \n",
       "39511     1       0.0571         0.436          0.000000     0.139    0.839   \n",
       "39517     0       0.0289         0.255          0.000005     0.163    0.588   \n",
       "39521     1       0.0300         0.406          0.000000     0.122    0.478   \n",
       "39529     1       0.0623         0.887          0.000000     0.904    0.239   \n",
       "\n",
       "         tempo  time_signature  year  New  \n",
       "39501  113.564               3  2008    1  \n",
       "39511  120.689               4  2020    1  \n",
       "39517  104.536               4  2008    1  \n",
       "39521  106.773               4  2008    1  \n",
       "39529  117.153               3  2018    1  \n",
       "\n",
       "[5 rows x 22 columns]"
      ]
     },
     "execution_count": 131,
     "metadata": {},
     "output_type": "execute_result"
    }
   ],
   "source": [
    "new_df.head()"
   ]
  },
  {
   "cell_type": "code",
   "execution_count": 133,
   "metadata": {},
   "outputs": [],
   "source": [
    "artist_colab_new=[]\n",
    "for item in new_df['artists']:\n",
    "    if len(item.split(','))>1:\n",
    "        artist_colab_new.append(item)"
   ]
  },
  {
   "cell_type": "code",
   "execution_count": 134,
   "metadata": {},
   "outputs": [],
   "source": [
    "artist_colab_new_cleaned=[]\n",
    "for item in artist_colab_new:\n",
    "    artist_colab_new_cleaned.append(item.replace('[','').replace(']','').replace(\"'\",'').strip().split(','))"
   ]
  },
  {
   "cell_type": "code",
   "execution_count": 135,
   "metadata": {},
   "outputs": [],
   "source": [
    "all_artist_new=[]\n",
    "for item in artist_colab_new_cleaned:\n",
    "    for i in range(len(item)):\n",
    "        all_artist_new.append(item[i])"
   ]
  },
  {
   "cell_type": "code",
   "execution_count": 136,
   "metadata": {},
   "outputs": [],
   "source": [
    "unique_artist_new=list(set(all_artist_new))"
   ]
  },
  {
   "cell_type": "code",
   "execution_count": 137,
   "metadata": {},
   "outputs": [],
   "source": [
    "G1=nx.Graph()\n",
    "\n",
    "for item in unique_artist_new:\n",
    "    G1.add_node(item)"
   ]
  },
  {
   "cell_type": "code",
   "execution_count": 138,
   "metadata": {},
   "outputs": [],
   "source": [
    "collab_new=[]\n",
    "for item in artist_colab_cleaned:\n",
    "    for i in range(1,len(item)):\n",
    "        temp=[]\n",
    "        temp.append([item[0],item[i]])\n",
    "        collab_new.append(temp)"
   ]
  },
  {
   "cell_type": "code",
   "execution_count": 139,
   "metadata": {},
   "outputs": [],
   "source": [
    "edges1=collab_new"
   ]
  },
  {
   "cell_type": "code",
   "execution_count": 140,
   "metadata": {},
   "outputs": [],
   "source": [
    "unique_edge_new=[]\n",
    "for i in range(len(edges1)):\n",
    "    if edges1[i][0] not in unique_edge_new:\n",
    "        unique_edge_new.append(edges1[i][0])"
   ]
  },
  {
   "cell_type": "code",
   "execution_count": 141,
   "metadata": {},
   "outputs": [],
   "source": [
    "for i in unique_edge_new:\n",
    "    G1.add_edge(i[0], i[1])"
   ]
  },
  {
   "cell_type": "code",
   "execution_count": 142,
   "metadata": {},
   "outputs": [],
   "source": [
    "H1 = nx.Graph(((u, v,e) for u,v,e in G1.edges(data=True) if u in ['Dua Lipa','J Balvin']))"
   ]
  },
  {
   "cell_type": "code",
   "execution_count": 144,
   "metadata": {},
   "outputs": [
    {
     "data": {
      "text/html": [
       "\n",
       "        <iframe\n",
       "            width=\"80%\"\n",
       "            height=\"600px\"\n",
       "            src=\"sample2.html\"\n",
       "            frameborder=\"0\"\n",
       "            allowfullscreen\n",
       "        ></iframe>\n",
       "        "
      ],
      "text/plain": [
       "<IPython.lib.display.IFrame at 0x1ef210b9320>"
      ]
     },
     "execution_count": 144,
     "metadata": {},
     "output_type": "execute_result"
    }
   ],
   "source": [
    "from pyvis.network import Network\n",
    "net=Network(height='600px', width='80%',notebook=True)\n",
    "net.from_nx(H1)\n",
    "#net.show_buttons(filter_=['physics'])\n",
    "net.show('sample2.html')"
   ]
  },
  {
   "cell_type": "code",
   "execution_count": 145,
   "metadata": {},
   "outputs": [
    {
     "data": {
      "text/plain": [
       "EdgeView([('J Balvin', ' Farruko'), ('J Balvin', ' Pharrell Williams'), ('J Balvin', ' BIA'), ('J Balvin', ' Sky'), ('J Balvin', ' Willy William'), ('J Balvin', ' Jowell & Randy'), ('J Balvin', ' Bad Bunny'), ('J Balvin', ' Marciano Cantero'), ('J Balvin', ' Tainy'), ('J Balvin', ' Dua Lipa'), ('J Balvin', ' Khalid'), ('J Balvin', ' Wisin'), ('J Balvin', ' Yandel'), ('J Balvin', ' Anitta'), ('J Balvin', ' Zion & Lennox'), ('J Balvin', ' Beyoncé'), ('J Balvin', ' Nicky Jam'), ('J Balvin', ' Ozuna'), ('J Balvin', ' Daddy Yankee'), ('J Balvin', ' De La Ghetto'), ('J Balvin', ' Zion'), ('J Balvin', ' Arcangel'), ('J Balvin', ' Sky Rompiendo'), ('J Balvin', ' Alejandro \"Mosty\" Patiño'), ('J Balvin', ' ROSALÍA'), ('J Balvin', ' Eleni Foureira'), ('Dua Lipa', ' BLACKPINK'), ('Dua Lipa', ' Angèle'), ('Dua Lipa', ' Feder'), ('Dua Lipa', ' Miguel'), ('Dua Lipa', ' Young Franco')])"
      ]
     },
     "execution_count": 145,
     "metadata": {},
     "output_type": "execute_result"
    }
   ],
   "source": [
    "H1.edges"
   ]
  },
  {
   "cell_type": "code",
   "execution_count": null,
   "metadata": {},
   "outputs": [],
   "source": []
  }
 ],
 "metadata": {
  "kernelspec": {
   "display_name": "Python 3",
   "language": "python",
   "name": "python3"
  },
  "language_info": {
   "codemirror_mode": {
    "name": "ipython",
    "version": 3
   },
   "file_extension": ".py",
   "mimetype": "text/x-python",
   "name": "python",
   "nbconvert_exporter": "python",
   "pygments_lexer": "ipython3",
   "version": "3.7.6"
  },
  "metadata": {
   "interpreter": {
    "hash": "9dddf865f83a8cacfd92d6ab05a523913dbc5430d4fb07afcfb95534484024bd"
   }
  }
 },
 "nbformat": 4,
 "nbformat_minor": 2
}
