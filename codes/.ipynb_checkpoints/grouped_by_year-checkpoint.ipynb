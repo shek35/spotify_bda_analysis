{
 "cells": [
  {
   "cell_type": "code",
   "execution_count": 1,
   "metadata": {},
   "outputs": [
    {
     "ename": "ModuleNotFoundError",
     "evalue": "No module named 'langdetect'",
     "output_type": "error",
     "traceback": [
      "\u001b[0;31m---------------------------------------------------------------------------\u001b[0m",
      "\u001b[0;31mModuleNotFoundError\u001b[0m                       Traceback (most recent call last)",
      "\u001b[0;32m<ipython-input-1-96198b96d732>\u001b[0m in \u001b[0;36m<module>\u001b[0;34m\u001b[0m\n\u001b[1;32m      5\u001b[0m \u001b[0;32mimport\u001b[0m \u001b[0mpickle\u001b[0m\u001b[0;34m\u001b[0m\u001b[0;34m\u001b[0m\u001b[0m\n\u001b[1;32m      6\u001b[0m \u001b[0;32mimport\u001b[0m \u001b[0mrandom\u001b[0m\u001b[0;34m\u001b[0m\u001b[0;34m\u001b[0m\u001b[0m\n\u001b[0;32m----> 7\u001b[0;31m \u001b[0;32mfrom\u001b[0m \u001b[0mlangdetect\u001b[0m \u001b[0;32mimport\u001b[0m \u001b[0mdetect\u001b[0m\u001b[0;34m\u001b[0m\u001b[0;34m\u001b[0m\u001b[0m\n\u001b[0m\u001b[1;32m      8\u001b[0m \u001b[0;32mfrom\u001b[0m \u001b[0mrandom\u001b[0m \u001b[0;32mimport\u001b[0m \u001b[0mrandint\u001b[0m\u001b[0;34m\u001b[0m\u001b[0;34m\u001b[0m\u001b[0m\n\u001b[1;32m      9\u001b[0m \u001b[0;32mimport\u001b[0m \u001b[0mseaborn\u001b[0m \u001b[0;32mas\u001b[0m \u001b[0msns\u001b[0m\u001b[0;34m\u001b[0m\u001b[0;34m\u001b[0m\u001b[0m\n",
      "\u001b[0;31mModuleNotFoundError\u001b[0m: No module named 'langdetect'"
     ]
    }
   ],
   "source": [
    "import pandas as pd\n",
    "import numpy as np\n",
    "import nltk\n",
    "import networkx as nx\n",
    "import pickle\n",
    "import random\n",
    "from langdetect import detect\n",
    "from random import randint\n",
    "import seaborn as sns\n",
    "import matplotlib.pyplot as plt\n",
    "from pyvis.network import Network\n",
    "%matplotlib inline\n",
    "\n",
    "import warnings\n",
    "warnings.simplefilter(\"ignore\")"
   ]
  },
  {
   "cell_type": "code",
   "execution_count": 2,
   "metadata": {},
   "outputs": [],
   "source": [
    "def get_lng(item):\n",
    "    try:\n",
    "        lng=detect(item)\n",
    "    except:\n",
    "        lng='error'\n",
    "    return lng"
   ]
  },
  {
   "cell_type": "code",
   "execution_count": 3,
   "metadata": {},
   "outputs": [],
   "source": [
    "def get_unique_artist_colab(df):\n",
    "    artist_colab=[]\n",
    "    for item in df['artists']:\n",
    "        if len(item.split(','))>1:\n",
    "            artist_colab.append(item)\n",
    "\n",
    "    artist_colab_cleaned=[]\n",
    "    for item in artist_colab:\n",
    "        artist_colab_cleaned.append(item.replace('[','').replace(']','').replace(\"'\",'')  .strip().split(','))\n",
    "    all_artist=[]\n",
    "    for item in artist_colab_cleaned:\n",
    "        for i in range(len(item)):\n",
    "            all_artist.append(item[i].strip())\n",
    "\n",
    "    return list(set(all_artist)), artist_colab_cleaned"
   ]
  },
  {
   "cell_type": "code",
   "execution_count": 4,
   "metadata": {},
   "outputs": [],
   "source": [
    "def get_edges(artist_colab_cleaned):\n",
    "    collab=[]\n",
    "    for item in artist_colab_cleaned:\n",
    "        for i in range(1,len(item)):\n",
    "            temp=[]\n",
    "            temp.append([item[0],item[i]])\n",
    "            collab.append(temp)\n",
    "    return collab"
   ]
  },
  {
   "cell_type": "code",
   "execution_count": 5,
   "metadata": {},
   "outputs": [],
   "source": [
    "def get_unique_edge(edges):\n",
    "    unique_edge=[]\n",
    "    for i in range(len(edges)):\n",
    "        if edges[i][0] not in unique_edge:\n",
    "            unique_edge.append(edges[i][0])\n",
    "\n",
    "    unique_edge0=[]\n",
    "    for i in range(len(unique_edge)):\n",
    "        if type(unique_edge[i][0])==str and type(unique_edge[i][1])== str:\n",
    "            unique_edge0.append([unique_edge[i][0].strip(),unique_edge[i][1].strip()])\n",
    "\n",
    "    return unique_edge0"
   ]
  },
  {
   "cell_type": "code",
   "execution_count": 6,
   "metadata": {},
   "outputs": [],
   "source": [
    "def get_collab_count(unique_artist,G,n):\n",
    "    neighbor_count = []\n",
    "    for i in unique_artist:\n",
    "        neighbor_count.append(len([n for n in G.neighbors(i)]))\n",
    "    temp=[]\n",
    "    order = np.argsort(neighbor_count)[::-1]\n",
    "    for i in range(n):\n",
    "        temp.append([unique_artist[order[i]],neighbor_count[order[i]]])\n",
    "    \n",
    "    return temp"
   ]
  },
  {
   "cell_type": "code",
   "execution_count": 7,
   "metadata": {},
   "outputs": [],
   "source": [
    "df=pd.read_csv('tracks.csv')"
   ]
  },
  {
   "cell_type": "code",
   "execution_count": 8,
   "metadata": {},
   "outputs": [],
   "source": [
    "df_year=df.copy()"
   ]
  },
  {
   "cell_type": "code",
   "execution_count": 9,
   "metadata": {},
   "outputs": [],
   "source": [
    "df_year['release_date']=pd.to_datetime(df_year['release_date'])\n",
    "df_year['year'] = df_year['release_date'].dt.year"
   ]
  },
  {
   "cell_type": "code",
   "execution_count": 10,
   "metadata": {},
   "outputs": [],
   "source": [
    "all_lng=['af', 'ar', 'bg', 'bn', 'ca', 'cs', 'cy', 'da', 'de', 'el', 'en', 'es', 'et', 'fa', 'fi', 'fr', 'gu', 'he','hi', 'hr', 'hu', 'id', 'it', 'ja', 'kn', 'ko', 'lt', 'lv', 'mk', 'ml', 'mr', 'ne', 'nl', 'no', 'pa', 'pl','pt', 'ro', 'ru', 'sk', 'sl', 'so', 'sq', 'sv', 'sw', 'ta', 'te', 'th', 'tl', 'tr', 'uk', 'ur', 'vi', 'zh-cn', 'zh-tw','error']"
   ]
  },
  {
   "cell_type": "code",
   "execution_count": 11,
   "metadata": {},
   "outputs": [],
   "source": [
    "color_dict={}\n",
    "\n",
    "for item in all_lng:\n",
    "    color_dict[item]=('#%06X' % randint(0, 0xFFFFFF))"
   ]
  },
  {
   "cell_type": "code",
   "execution_count": 12,
   "metadata": {},
   "outputs": [],
   "source": [
    "year=int(input(\"Enter year:\"))\n",
    "df0=df_year.groupby('year').get_group(year)"
   ]
  },
  {
   "cell_type": "code",
   "execution_count": 13,
   "metadata": {},
   "outputs": [],
   "source": [
    "unique_artist, artist_colab_cleaned=get_unique_artist_colab(df0)\n",
    "edges=get_edges(artist_colab_cleaned)\n",
    "unique_edge=get_unique_edge(edges)"
   ]
  },
  {
   "cell_type": "code",
   "execution_count": 14,
   "metadata": {},
   "outputs": [],
   "source": [
    "df_year=pd.DataFrame(unique_edge,columns=['source','target'])"
   ]
  },
  {
   "cell_type": "code",
   "execution_count": 15,
   "metadata": {},
   "outputs": [],
   "source": [
    "net_year = Network(height='800px', width='100%',bgcolor='#222222', font_color='white')\n",
    "\n",
    "net_year.barnes_hut()\n",
    "\n",
    "sources = df_year['source']\n",
    "targets = df_year['target']\n",
    "\n",
    "edge_data = zip(sources, targets)\n",
    "\n",
    "lng_dict={}\n",
    "for e in edge_data:\n",
    "    src = e[0]\n",
    "    lng=get_lng(src)\n",
    "    scolr=color_dict[lng]\n",
    "    dst = e[1]\n",
    "    lng0=get_lng(dst)\n",
    "    dcolr=color_dict[lng0]\n",
    "\n",
    "    net_year.add_node(src, src, title=src,color=scolr)\n",
    "    net_year.add_node(dst, dst, title=dst,color=dcolr)\n",
    "    net_year.add_edge(src, dst)\n",
    "    lng_dict[src]=lng\n",
    "    lng_dict[dst]=lng0\n",
    "\n",
    "neighbor_map = net_year.get_adj_list()"
   ]
  },
  {
   "cell_type": "code",
   "execution_count": 16,
   "metadata": {},
   "outputs": [],
   "source": [
    "for node in net_year.nodes:\n",
    "    node['title'] = ' Neighbors:<br>' + '<br>'.join(neighbor_map[node['id']]) +'<br>Language:<br>' +lng_dict[node['id']]\n",
    "    node['value'] = len(neighbor_map[node['id']])\n",
    "\n",
    "net_year.show(str(year)+'.html')"
   ]
  },
  {
   "cell_type": "code",
   "execution_count": null,
   "metadata": {},
   "outputs": [],
   "source": []
  }
 ],
 "metadata": {
  "interpreter": {
   "hash": "d0be5b01678fe09a9e911a854181cd92feaa166dccbee34eb431043da4f7c9dc"
  },
  "kernelspec": {
   "display_name": "Python 3",
   "language": "python",
   "name": "python3"
  },
  "language_info": {
   "codemirror_mode": {
    "name": "ipython",
    "version": 3
   },
   "file_extension": ".py",
   "mimetype": "text/x-python",
   "name": "python",
   "nbconvert_exporter": "python",
   "pygments_lexer": "ipython3",
   "version": "3.7.6"
  }
 },
 "nbformat": 4,
 "nbformat_minor": 2
}
